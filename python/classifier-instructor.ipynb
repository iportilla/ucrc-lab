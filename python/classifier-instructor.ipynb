{
 "cells": [
  {
   "cell_type": "code",
   "execution_count": 1,
   "metadata": {},
   "outputs": [],
   "source": [
    "#pip install\n"
   ]
  },
  {
   "cell_type": "code",
   "execution_count": 2,
   "metadata": {},
   "outputs": [],
   "source": [
    "import pandas as pd\n",
    "\n",
    "import numpy as np\n",
    "import openai"
   ]
  },
  {
   "cell_type": "code",
   "execution_count": 4,
   "metadata": {},
   "outputs": [
    {
     "data": {
      "text/html": [
       "<div>\n",
       "<style scoped>\n",
       "    .dataframe tbody tr th:only-of-type {\n",
       "        vertical-align: middle;\n",
       "    }\n",
       "\n",
       "    .dataframe tbody tr th {\n",
       "        vertical-align: top;\n",
       "    }\n",
       "\n",
       "    .dataframe thead th {\n",
       "        text-align: right;\n",
       "    }\n",
       "</style>\n",
       "<table border=\"1\" class=\"dataframe\">\n",
       "  <thead>\n",
       "    <tr style=\"text-align: right;\">\n",
       "      <th></th>\n",
       "      <th>Unnamed: 0</th>\n",
       "      <th>ProductId</th>\n",
       "      <th>UserId</th>\n",
       "      <th>Score</th>\n",
       "      <th>Summary</th>\n",
       "      <th>Text</th>\n",
       "      <th>combined</th>\n",
       "      <th>n_tokens</th>\n",
       "      <th>embedding</th>\n",
       "    </tr>\n",
       "  </thead>\n",
       "  <tbody>\n",
       "    <tr>\n",
       "      <th>0</th>\n",
       "      <td>0</td>\n",
       "      <td>B003XPF9BO</td>\n",
       "      <td>A3R7JR3FMEBXQB</td>\n",
       "      <td>5</td>\n",
       "      <td>where does one  start...and stop... with a tre...</td>\n",
       "      <td>Wanted to save some to bring to my Chicago fam...</td>\n",
       "      <td>Title: where does one  start...and stop... wit...</td>\n",
       "      <td>52</td>\n",
       "      <td>[0.006995313800871372, -0.027321254834532738, ...</td>\n",
       "    </tr>\n",
       "    <tr>\n",
       "      <th>1</th>\n",
       "      <td>297</td>\n",
       "      <td>B003VXHGPK</td>\n",
       "      <td>A21VWSCGW7UUAR</td>\n",
       "      <td>4</td>\n",
       "      <td>Good, but not Wolfgang Puck good</td>\n",
       "      <td>Honestly, I have to admit that I expected a li...</td>\n",
       "      <td>Title: Good, but not Wolfgang Puck good; Conte...</td>\n",
       "      <td>178</td>\n",
       "      <td>[-0.0031342837028205395, -0.009958481416106224...</td>\n",
       "    </tr>\n",
       "    <tr>\n",
       "      <th>2</th>\n",
       "      <td>296</td>\n",
       "      <td>B008JKTTUA</td>\n",
       "      <td>A34XBAIFT02B60</td>\n",
       "      <td>1</td>\n",
       "      <td>Should advertise coconut as an ingredient more...</td>\n",
       "      <td>First, these should be called Mac - Coconut ba...</td>\n",
       "      <td>Title: Should advertise coconut as an ingredie...</td>\n",
       "      <td>78</td>\n",
       "      <td>[-0.01757248304784298, -8.266512304544449e-05,...</td>\n",
       "    </tr>\n",
       "    <tr>\n",
       "      <th>3</th>\n",
       "      <td>295</td>\n",
       "      <td>B000LKTTTW</td>\n",
       "      <td>A14MQ40CCU8B13</td>\n",
       "      <td>5</td>\n",
       "      <td>Best tomato soup</td>\n",
       "      <td>I have a hard time finding packaged food of an...</td>\n",
       "      <td>Title: Best tomato soup; Content: I have a har...</td>\n",
       "      <td>111</td>\n",
       "      <td>[-0.0013932279543951154, -0.011112828738987446...</td>\n",
       "    </tr>\n",
       "    <tr>\n",
       "      <th>4</th>\n",
       "      <td>294</td>\n",
       "      <td>B001D09KAM</td>\n",
       "      <td>A34XBAIFT02B60</td>\n",
       "      <td>1</td>\n",
       "      <td>Should advertise coconut as an ingredient more...</td>\n",
       "      <td>First, these should be called Mac - Coconut ba...</td>\n",
       "      <td>Title: Should advertise coconut as an ingredie...</td>\n",
       "      <td>78</td>\n",
       "      <td>[-0.01757248304784298, -8.266512304544449e-05,...</td>\n",
       "    </tr>\n",
       "  </tbody>\n",
       "</table>\n",
       "</div>"
      ],
      "text/plain": [
       "   Unnamed: 0   ProductId          UserId  Score  \\\n",
       "0           0  B003XPF9BO  A3R7JR3FMEBXQB      5   \n",
       "1         297  B003VXHGPK  A21VWSCGW7UUAR      4   \n",
       "2         296  B008JKTTUA  A34XBAIFT02B60      1   \n",
       "3         295  B000LKTTTW  A14MQ40CCU8B13      5   \n",
       "4         294  B001D09KAM  A34XBAIFT02B60      1   \n",
       "\n",
       "                                             Summary  \\\n",
       "0  where does one  start...and stop... with a tre...   \n",
       "1                   Good, but not Wolfgang Puck good   \n",
       "2  Should advertise coconut as an ingredient more...   \n",
       "3                                   Best tomato soup   \n",
       "4  Should advertise coconut as an ingredient more...   \n",
       "\n",
       "                                                Text  \\\n",
       "0  Wanted to save some to bring to my Chicago fam...   \n",
       "1  Honestly, I have to admit that I expected a li...   \n",
       "2  First, these should be called Mac - Coconut ba...   \n",
       "3  I have a hard time finding packaged food of an...   \n",
       "4  First, these should be called Mac - Coconut ba...   \n",
       "\n",
       "                                            combined  n_tokens  \\\n",
       "0  Title: where does one  start...and stop... wit...        52   \n",
       "1  Title: Good, but not Wolfgang Puck good; Conte...       178   \n",
       "2  Title: Should advertise coconut as an ingredie...        78   \n",
       "3  Title: Best tomato soup; Content: I have a har...       111   \n",
       "4  Title: Should advertise coconut as an ingredie...        78   \n",
       "\n",
       "                                           embedding  \n",
       "0  [0.006995313800871372, -0.027321254834532738, ...  \n",
       "1  [-0.0031342837028205395, -0.009958481416106224...  \n",
       "2  [-0.01757248304784298, -8.266512304544449e-05,...  \n",
       "3  [-0.0013932279543951154, -0.011112828738987446...  \n",
       "4  [-0.01757248304784298, -8.266512304544449e-05,...  "
      ]
     },
     "execution_count": 4,
     "metadata": {},
     "output_type": "execute_result"
    }
   ],
   "source": [
    "PATH='./fine_food_reviews_1k.csv'\n",
    "df = pd.read_csv(PATH)\n",
    "df.head()"
   ]
  },
  {
   "cell_type": "code",
   "execution_count": 5,
   "metadata": {},
   "outputs": [
    {
     "data": {
      "text/html": [
       "<div>\n",
       "<style scoped>\n",
       "    .dataframe tbody tr th:only-of-type {\n",
       "        vertical-align: middle;\n",
       "    }\n",
       "\n",
       "    .dataframe tbody tr th {\n",
       "        vertical-align: top;\n",
       "    }\n",
       "\n",
       "    .dataframe thead th {\n",
       "        text-align: right;\n",
       "    }\n",
       "</style>\n",
       "<table border=\"1\" class=\"dataframe\">\n",
       "  <thead>\n",
       "    <tr style=\"text-align: right;\">\n",
       "      <th></th>\n",
       "      <th>Score</th>\n",
       "      <th>Summary</th>\n",
       "      <th>Text</th>\n",
       "      <th>combined</th>\n",
       "    </tr>\n",
       "  </thead>\n",
       "  <tbody>\n",
       "    <tr>\n",
       "      <th>0</th>\n",
       "      <td>5</td>\n",
       "      <td>where does one  start...and stop... with a tre...</td>\n",
       "      <td>Wanted to save some to bring to my Chicago fam...</td>\n",
       "      <td>Title: where does one  start...and stop... wit...</td>\n",
       "    </tr>\n",
       "    <tr>\n",
       "      <th>1</th>\n",
       "      <td>4</td>\n",
       "      <td>Good, but not Wolfgang Puck good</td>\n",
       "      <td>Honestly, I have to admit that I expected a li...</td>\n",
       "      <td>Title: Good, but not Wolfgang Puck good; Conte...</td>\n",
       "    </tr>\n",
       "    <tr>\n",
       "      <th>2</th>\n",
       "      <td>1</td>\n",
       "      <td>Should advertise coconut as an ingredient more...</td>\n",
       "      <td>First, these should be called Mac - Coconut ba...</td>\n",
       "      <td>Title: Should advertise coconut as an ingredie...</td>\n",
       "    </tr>\n",
       "    <tr>\n",
       "      <th>3</th>\n",
       "      <td>5</td>\n",
       "      <td>Best tomato soup</td>\n",
       "      <td>I have a hard time finding packaged food of an...</td>\n",
       "      <td>Title: Best tomato soup; Content: I have a har...</td>\n",
       "    </tr>\n",
       "    <tr>\n",
       "      <th>4</th>\n",
       "      <td>1</td>\n",
       "      <td>Should advertise coconut as an ingredient more...</td>\n",
       "      <td>First, these should be called Mac - Coconut ba...</td>\n",
       "      <td>Title: Should advertise coconut as an ingredie...</td>\n",
       "    </tr>\n",
       "  </tbody>\n",
       "</table>\n",
       "</div>"
      ],
      "text/plain": [
       "   Score                                            Summary  \\\n",
       "0      5  where does one  start...and stop... with a tre...   \n",
       "1      4                   Good, but not Wolfgang Puck good   \n",
       "2      1  Should advertise coconut as an ingredient more...   \n",
       "3      5                                   Best tomato soup   \n",
       "4      1  Should advertise coconut as an ingredient more...   \n",
       "\n",
       "                                                Text  \\\n",
       "0  Wanted to save some to bring to my Chicago fam...   \n",
       "1  Honestly, I have to admit that I expected a li...   \n",
       "2  First, these should be called Mac - Coconut ba...   \n",
       "3  I have a hard time finding packaged food of an...   \n",
       "4  First, these should be called Mac - Coconut ba...   \n",
       "\n",
       "                                            combined  \n",
       "0  Title: where does one  start...and stop... wit...  \n",
       "1  Title: Good, but not Wolfgang Puck good; Conte...  \n",
       "2  Title: Should advertise coconut as an ingredie...  \n",
       "3  Title: Best tomato soup; Content: I have a har...  \n",
       "4  Title: Should advertise coconut as an ingredie...  "
      ]
     },
     "execution_count": 5,
     "metadata": {},
     "output_type": "execute_result"
    }
   ],
   "source": [
    "#get the columns we need\n",
    "df = df[['Score', 'Summary', 'Text', 'combined']]\n",
    "df.head()"
   ]
  },
  {
   "cell_type": "code",
   "execution_count": null,
   "metadata": {},
   "outputs": [],
   "source": []
  },
  {
   "cell_type": "code",
   "execution_count": 6,
   "metadata": {},
   "outputs": [],
   "source": [
    "#save df to csv\n",
    "df.to_csv('fine_food_reviews.csv', index=False)"
   ]
  },
  {
   "cell_type": "code",
   "execution_count": 7,
   "metadata": {},
   "outputs": [
    {
     "name": "stderr",
     "output_type": "stream",
     "text": [
      "/Users/watson/Library/Python/3.9/lib/python/site-packages/InstructorEmbedding/instructor.py:7: TqdmExperimentalWarning: Using `tqdm.autonotebook.tqdm` in notebook mode. Use `tqdm.tqdm` instead to force console mode (e.g. in jupyter console)\n",
      "  from tqdm.autonotebook import trange\n"
     ]
    },
    {
     "name": "stdout",
     "output_type": "stream",
     "text": [
      "load INSTRUCTOR_Transformer\n",
      "max_seq_length  512\n"
     ]
    },
    {
     "data": {
      "text/plain": [
       "1"
      ]
     },
     "execution_count": 7,
     "metadata": {},
     "output_type": "execute_result"
    }
   ],
   "source": [
    "\"\"\"\n",
    "\n",
    "Either use:\n",
    "\n",
    "from sentence_transformers import SentenceTransformer\n",
    "model = SentenceTransformer(MODEL_NAME)\n",
    "\n",
    "or \n",
    "\"\"\"\n",
    "\n",
    "#pip install InstructorEmbedding\n",
    "#https://huggingface.co/hkunlp/instructor-large\n",
    "\n",
    "from InstructorEmbedding import INSTRUCTOR\n",
    "model = INSTRUCTOR('hkunlp/instructor-large')\n",
    "MODEL_DIMENSIONS=768\n",
    "\n",
    "#Check model embedding dimensions\n",
    "sentence = \"3D ActionSLAM: wearable person tracking in multi-floor environments\"\n",
    "instruction = \"Represent the Science title:\"\n",
    "embeddings = model.encode([[instruction,sentence]])\n",
    "len(embeddings)"
   ]
  },
  {
   "cell_type": "code",
   "execution_count": 19,
   "metadata": {},
   "outputs": [],
   "source": [
    "#function to calculate text embeddings from a text string\n",
    "def create_embeddings(text):\n",
    "    #text_embeddings = [ model.encode(sentence) for sentence in text]\n",
    "    text_embeddings = model.encode(text)\n",
    "    return text_embeddings"
   ]
  },
  {
   "cell_type": "code",
   "execution_count": 20,
   "metadata": {},
   "outputs": [
    {
     "name": "stdout",
     "output_type": "stream",
     "text": [
      "   Score                                            Summary  \\\n",
      "0      5  where does one  start...and stop... with a tre...   \n",
      "1      4                   Good, but not Wolfgang Puck good   \n",
      "2      1  Should advertise coconut as an ingredient more...   \n",
      "3      5                                   Best tomato soup   \n",
      "4      1  Should advertise coconut as an ingredient more...   \n",
      "\n",
      "                                                Text  \\\n",
      "0  Wanted to save some to bring to my Chicago fam...   \n",
      "1  Honestly, I have to admit that I expected a li...   \n",
      "2  First, these should be called Mac - Coconut ba...   \n",
      "3  I have a hard time finding packaged food of an...   \n",
      "4  First, these should be called Mac - Coconut ba...   \n",
      "\n",
      "                                            combined  \\\n",
      "0  Title: where does one  start...and stop... wit...   \n",
      "1  Title: Good, but not Wolfgang Puck good; Conte...   \n",
      "2  Title: Should advertise coconut as an ingredie...   \n",
      "3  Title: Best tomato soup; Content: I have a har...   \n",
      "4  Title: Should advertise coconut as an ingredie...   \n",
      "\n",
      "                               instructor_embeddings sentiment  \n",
      "0  [-0.059960708, -0.009530962, 0.01014184, 0.034...  Positive  \n",
      "1  [-0.055567216, 0.033855222, -0.0056050187, 0.0...  Positive  \n",
      "2  [-0.05114293, -0.00076456665, -0.002448596, 0....  Negative  \n",
      "3  [-0.050088856, 0.021853218, -0.006671174, -0.0...  Positive  \n",
      "4  [-0.05114293, -0.00076456665, -0.002448596, 0....  Negative  \n",
      "CPU times: user 3min 8s, sys: 38 s, total: 3min 46s\n",
      "Wall time: 3min 3s\n"
     ]
    }
   ],
   "source": [
    "%%time\n",
    "#apply the function to the combined column\n",
    "df['instructor_embeddings'] = df.combined.apply(lambda x: create_embeddings(x))\n",
    "print(df.head())"
   ]
  },
  {
   "cell_type": "code",
   "execution_count": 21,
   "metadata": {},
   "outputs": [
    {
     "name": "stdout",
     "output_type": "stream",
     "text": [
      "saved to pickle file\n"
     ]
    }
   ],
   "source": [
    "#save embeddings to pickle file\n",
    "df.to_pickle('./fine_food_reviews_with_instructor_embeddings_1k.pkl')\n",
    "print('saved to pickle file')"
   ]
  },
  {
   "cell_type": "code",
   "execution_count": null,
   "metadata": {},
   "outputs": [],
   "source": [
    "#or load df from pickle file\n",
    "\n",
    "#PATH='./fine_food_reviews_with_intructor_embeddings_1k.pkl'\n",
    "#df = pd.read_pickle(PATH)\n",
    "#df = pd.read_csv(PATH)\n",
    "#df.head()"
   ]
  },
  {
   "cell_type": "code",
   "execution_count": 22,
   "metadata": {},
   "outputs": [
    {
     "data": {
      "text/html": [
       "<div>\n",
       "<style scoped>\n",
       "    .dataframe tbody tr th:only-of-type {\n",
       "        vertical-align: middle;\n",
       "    }\n",
       "\n",
       "    .dataframe tbody tr th {\n",
       "        vertical-align: top;\n",
       "    }\n",
       "\n",
       "    .dataframe thead th {\n",
       "        text-align: right;\n",
       "    }\n",
       "</style>\n",
       "<table border=\"1\" class=\"dataframe\">\n",
       "  <thead>\n",
       "    <tr style=\"text-align: right;\">\n",
       "      <th></th>\n",
       "      <th>Score</th>\n",
       "      <th>Summary</th>\n",
       "      <th>Text</th>\n",
       "      <th>combined</th>\n",
       "      <th>instructor_embeddings</th>\n",
       "      <th>sentiment</th>\n",
       "    </tr>\n",
       "  </thead>\n",
       "  <tbody>\n",
       "    <tr>\n",
       "      <th>0</th>\n",
       "      <td>5</td>\n",
       "      <td>where does one  start...and stop... with a tre...</td>\n",
       "      <td>Wanted to save some to bring to my Chicago fam...</td>\n",
       "      <td>Title: where does one  start...and stop... wit...</td>\n",
       "      <td>[-0.059960708, -0.009530962, 0.01014184, 0.034...</td>\n",
       "      <td>Positive</td>\n",
       "    </tr>\n",
       "    <tr>\n",
       "      <th>1</th>\n",
       "      <td>4</td>\n",
       "      <td>Good, but not Wolfgang Puck good</td>\n",
       "      <td>Honestly, I have to admit that I expected a li...</td>\n",
       "      <td>Title: Good, but not Wolfgang Puck good; Conte...</td>\n",
       "      <td>[-0.055567216, 0.033855222, -0.0056050187, 0.0...</td>\n",
       "      <td>Positive</td>\n",
       "    </tr>\n",
       "    <tr>\n",
       "      <th>2</th>\n",
       "      <td>1</td>\n",
       "      <td>Should advertise coconut as an ingredient more...</td>\n",
       "      <td>First, these should be called Mac - Coconut ba...</td>\n",
       "      <td>Title: Should advertise coconut as an ingredie...</td>\n",
       "      <td>[-0.05114293, -0.00076456665, -0.002448596, 0....</td>\n",
       "      <td>Negative</td>\n",
       "    </tr>\n",
       "    <tr>\n",
       "      <th>3</th>\n",
       "      <td>5</td>\n",
       "      <td>Best tomato soup</td>\n",
       "      <td>I have a hard time finding packaged food of an...</td>\n",
       "      <td>Title: Best tomato soup; Content: I have a har...</td>\n",
       "      <td>[-0.050088856, 0.021853218, -0.006671174, -0.0...</td>\n",
       "      <td>Positive</td>\n",
       "    </tr>\n",
       "    <tr>\n",
       "      <th>4</th>\n",
       "      <td>1</td>\n",
       "      <td>Should advertise coconut as an ingredient more...</td>\n",
       "      <td>First, these should be called Mac - Coconut ba...</td>\n",
       "      <td>Title: Should advertise coconut as an ingredie...</td>\n",
       "      <td>[-0.05114293, -0.00076456665, -0.002448596, 0....</td>\n",
       "      <td>Negative</td>\n",
       "    </tr>\n",
       "  </tbody>\n",
       "</table>\n",
       "</div>"
      ],
      "text/plain": [
       "   Score                                            Summary  \\\n",
       "0      5  where does one  start...and stop... with a tre...   \n",
       "1      4                   Good, but not Wolfgang Puck good   \n",
       "2      1  Should advertise coconut as an ingredient more...   \n",
       "3      5                                   Best tomato soup   \n",
       "4      1  Should advertise coconut as an ingredient more...   \n",
       "\n",
       "                                                Text  \\\n",
       "0  Wanted to save some to bring to my Chicago fam...   \n",
       "1  Honestly, I have to admit that I expected a li...   \n",
       "2  First, these should be called Mac - Coconut ba...   \n",
       "3  I have a hard time finding packaged food of an...   \n",
       "4  First, these should be called Mac - Coconut ba...   \n",
       "\n",
       "                                            combined  \\\n",
       "0  Title: where does one  start...and stop... wit...   \n",
       "1  Title: Good, but not Wolfgang Puck good; Conte...   \n",
       "2  Title: Should advertise coconut as an ingredie...   \n",
       "3  Title: Best tomato soup; Content: I have a har...   \n",
       "4  Title: Should advertise coconut as an ingredie...   \n",
       "\n",
       "                               instructor_embeddings sentiment  \n",
       "0  [-0.059960708, -0.009530962, 0.01014184, 0.034...  Positive  \n",
       "1  [-0.055567216, 0.033855222, -0.0056050187, 0.0...  Positive  \n",
       "2  [-0.05114293, -0.00076456665, -0.002448596, 0....  Negative  \n",
       "3  [-0.050088856, 0.021853218, -0.006671174, -0.0...  Positive  \n",
       "4  [-0.05114293, -0.00076456665, -0.002448596, 0....  Negative  "
      ]
     },
     "execution_count": 22,
     "metadata": {},
     "output_type": "execute_result"
    }
   ],
   "source": [
    "# convert 5-star rating to binary sentiment\n",
    "df = df[df.Score != 3]\n",
    "df[\"sentiment\"] = df.Score.replace({1: \"Negative\", 2: \"Negative\", 4: \"Positive\", 5: \"Positive\"})\n",
    "df.head()"
   ]
  },
  {
   "cell_type": "code",
   "execution_count": 23,
   "metadata": {},
   "outputs": [],
   "source": [
    "from sklearn.model_selection import train_test_split\n",
    "from sklearn.metrics import accuracy_score, classification_report\n",
    "\n",
    "from sklearn.ensemble import RandomForestClassifier\n",
    "from sklearn.linear_model import LogisticRegression\n",
    "from sklearn.naive_bayes import MultinomialNB\n",
    "from sklearn.svm import LinearSVC\n",
    "\n",
    "from sklearn.metrics import PrecisionRecallDisplay"
   ]
  },
  {
   "cell_type": "code",
   "execution_count": 24,
   "metadata": {},
   "outputs": [
    {
     "data": {
      "text/plain": [
       "sentiment\n",
       "Positive    152\n",
       "Negative     33\n",
       "Name: count, dtype: int64"
      ]
     },
     "execution_count": 24,
     "metadata": {},
     "output_type": "execute_result"
    }
   ],
   "source": [
    "#split data into train and test sets\n",
    "X_train, X_test, y_train, y_test = train_test_split(list(df.instructor_embeddings.values), df['sentiment'], test_size=0.2, random_state=42)\n",
    "y_test.value_counts()"
   ]
  },
  {
   "cell_type": "code",
   "execution_count": 25,
   "metadata": {},
   "outputs": [],
   "source": [
    "models = [\n",
    "        ## n_estimators = number of trees in the forest\n",
    "        ## random_state = seed used by the random number generator\n",
    "    #RandomForestClassifier(n_estimators=200, max_depth=3, random_state=42),\n",
    "    RandomForestClassifier(n_estimators=100, max_depth=3, random_state=42),\n",
    "    LinearSVC(),\n",
    "    #MultinomialNB(), #Needs non-negative values\n",
    "    LogisticRegression(random_state=42, max_iter=10000),\n",
    "]"
   ]
  },
  {
   "cell_type": "code",
   "execution_count": 26,
   "metadata": {},
   "outputs": [
    {
     "name": "stdout",
     "output_type": "stream",
     "text": [
      "RandomForestClassifier(max_depth=3, random_state=42)\n",
      "0.8648648648648649\n",
      "\n",
      "\n",
      "LinearSVC()\n",
      "0.9675675675675676\n",
      "\n",
      "\n",
      "LogisticRegression(max_iter=10000, random_state=42)\n",
      "0.8486486486486486\n",
      "\n",
      "\n"
     ]
    },
    {
     "name": "stderr",
     "output_type": "stream",
     "text": [
      "/Users/watson/Library/Python/3.9/lib/python/site-packages/sklearn/svm/_classes.py:32: FutureWarning: The default value of `dual` will change from `True` to `'auto'` in 1.5. Set the value of `dual` explicitly to suppress the warning.\n",
      "  warnings.warn(\n"
     ]
    }
   ],
   "source": [
    "for m in models:\n",
    "    print(m)\n",
    "    m.fit(X_train, y_train)\n",
    "    y_pred = m.predict(X_test)\n",
    "    #print(classification_report(y_test, y_pred))\n",
    "    print(accuracy_score(y_test, y_pred))\n",
    "    print('\\n')"
   ]
  },
  {
   "cell_type": "code",
   "execution_count": 27,
   "metadata": {},
   "outputs": [
    {
     "name": "stdout",
     "output_type": "stream",
     "text": [
      "              precision    recall  f1-score   support\n",
      "\n",
      "    Negative       1.00      0.82      0.90        33\n",
      "    Positive       0.96      1.00      0.98       152\n",
      "\n",
      "    accuracy                           0.97       185\n",
      "   macro avg       0.98      0.91      0.94       185\n",
      "weighted avg       0.97      0.97      0.97       185\n",
      "\n"
     ]
    },
    {
     "name": "stderr",
     "output_type": "stream",
     "text": [
      "/Users/watson/Library/Python/3.9/lib/python/site-packages/sklearn/svm/_classes.py:32: FutureWarning: The default value of `dual` will change from `True` to `'auto'` in 1.5. Set the value of `dual` explicitly to suppress the warning.\n",
      "  warnings.warn(\n"
     ]
    }
   ],
   "source": [
    "#Select best model\n",
    "#LinearSVC() is the best model with 0.95 overall accuracy\n",
    "\n",
    "linear_svc = LinearSVC()\n",
    "linear_svc.fit(X_train, y_train)\n",
    "y_pred = linear_svc.predict(X_test)\n",
    "print(classification_report(y_test, y_pred))"
   ]
  },
  {
   "cell_type": "code",
   "execution_count": null,
   "metadata": {},
   "outputs": [],
   "source": []
  },
  {
   "cell_type": "code",
   "execution_count": 28,
   "metadata": {},
   "outputs": [],
   "source": [
    "#prompt user for input\n",
    "#text = input(\"Enter text to embed: \")\n",
    "\n",
    "\n",
    "#query='I did not like those noodles. They were too salty.'\n",
    "query='I liked the ice cream, it was my favorite flavor'\n",
    "\n",
    "\n"
   ]
  },
  {
   "cell_type": "code",
   "execution_count": 29,
   "metadata": {},
   "outputs": [
    {
     "name": "stdout",
     "output_type": "stream",
     "text": [
      "[-0.05388367  0.01293663 -0.00610974 -0.00064016  0.02779543 -0.00023739\n",
      "  0.01041761  0.01520253 -0.03726192  0.06271198  0.04456315 -0.00146977\n",
      "  0.02546944  0.0301823  -0.03854061 -0.01003428 -0.03777828  0.00566797\n",
      "  0.00866211 -0.02147955  0.03131982  0.00214566 -0.00257729  0.03958992\n",
      "  0.0268471   0.04376731 -0.03357205  0.00903402  0.0760744  -0.05456899\n",
      "  0.02113983 -0.05553366 -0.01585522 -0.03614475 -0.01302151  0.01888763\n",
      "  0.02554181  0.00808476 -0.00238992  0.02437423 -0.00769868  0.01059085\n",
      "  0.00295327 -0.02198369  0.0030793  -0.03130994  0.00127087 -0.05831496\n",
      "  0.02011083 -0.02193987 -0.04471128 -0.04107527 -0.05096359 -0.00053429\n",
      "  0.0148061  -0.04691124 -0.06507159  0.0492857   0.05234139 -0.03496518\n",
      " -0.03952492  0.01231937 -0.0580942   0.00157165 -0.00154935 -0.06350773\n",
      "  0.02888354 -0.05196198  0.01872565 -0.06729876  0.01732661 -0.03718399\n",
      " -0.01058599 -0.03071346 -0.03015275 -0.03773785  0.03404847  0.03995378\n",
      " -0.03403166  0.06799641  0.0441835   0.00477378  0.02518221 -0.03013352\n",
      " -0.03598855  0.00711189 -0.02876556  0.0137991  -0.00870037  0.00834185\n",
      " -0.03402534 -0.03124503  0.01301056 -0.00855726  0.02018075  0.03359012\n",
      "  0.032199   -0.00312025  0.01481935  0.00601043  0.0537546   0.0357247\n",
      " -0.06387453  0.05860646 -0.02207078 -0.00227961 -0.01725446 -0.03951619\n",
      " -0.04491697  0.01826966  0.02982061 -0.04955964 -0.02263469  0.02939702\n",
      "  0.00525344 -0.02359525  0.05438092 -0.04699137 -0.04620487 -0.02008309\n",
      "  0.06150761  0.02293995  0.00163015 -0.0127308  -0.05236303  0.03657603\n",
      " -0.06825192 -0.04636925 -0.03126641  0.02196518  0.00824018  0.01382968\n",
      "  0.01663189 -0.01280653  0.01759216  0.00741595 -0.04036331 -0.04107573\n",
      "  0.00618898  0.07302533 -0.06453081 -0.06559537 -0.00808956  0.00995498\n",
      " -0.01540266 -0.0007381   0.01507915 -0.05024526 -0.02751932 -0.01297543\n",
      "  0.0231361  -0.04421075 -0.03344944  0.05436621 -0.00428223  0.04500645\n",
      " -0.03847283 -0.02010352  0.02762306  0.01252674 -0.02347082  0.04874888\n",
      "  0.01509384  0.0285744  -0.06222197 -0.02378528  0.0361275   0.08164162\n",
      " -0.0436917  -0.03618884 -0.05082411  0.01292154  0.02336118  0.01816038\n",
      " -0.04000959  0.04131442  0.06416132  0.03291076 -0.04441816  0.03337974\n",
      " -0.02724362 -0.01805416 -0.04743963  0.01773281  0.03748351 -0.03415406\n",
      "  0.00817367  0.03057609  0.00960108 -0.04592442 -0.01352604  0.06171494\n",
      " -0.01438856 -0.01801077  0.03130242 -0.01929035 -0.02122446  0.00869019\n",
      " -0.02190237  0.00413766 -0.02721192 -0.00947269  0.03584622 -0.02854861\n",
      "  0.01432428  0.014807   -0.03591174  0.06737647 -0.04775053 -0.0069669\n",
      " -0.04723427 -0.06605417  0.00886751  0.0360976   0.07200268  0.04581016\n",
      " -0.05652276 -0.07844664  0.01023955  0.05565475  0.0590587   0.03731597\n",
      " -0.05116489 -0.05546503  0.04269496  0.08287635 -0.0488559  -0.02709254\n",
      "  0.03385898  0.03328757  0.01876751 -0.00127483 -0.02904465  0.02051597\n",
      " -0.03946557 -0.06338     0.04469084  0.04568236  0.00306083  0.03264946\n",
      " -0.01254671  0.0386246   0.01744262  0.01973884 -0.00341006 -0.08586474\n",
      "  0.00148938 -0.01570364  0.06731418 -0.01878735  0.03259918  0.02562765\n",
      " -0.00665419  0.04016294 -0.01777998  0.02252904  0.06284357 -0.00098544\n",
      "  0.00848539  0.02764957  0.05198151  0.05320264  0.04108423 -0.02880674\n",
      "  0.08013285  0.02554365  0.00893685  0.07586382  0.02284321  0.01227108\n",
      "  0.0378255   0.0608888  -0.01176524 -0.02577564  0.04465087 -0.05130771\n",
      "  0.02639497 -0.01422817  0.00911446 -0.01439555 -0.00079426  0.06553388\n",
      "  0.02458283 -0.03281005  0.00728657  0.00695473  0.02063148  0.05215771\n",
      " -0.01062276  0.03452462  0.02563935 -0.00999635  0.00708314 -0.07421315\n",
      " -0.00474497 -0.01427231 -0.01545619  0.00410965 -0.08379165 -0.05165508\n",
      " -0.04624825 -0.00527071  0.03147829  0.03845173  0.0309834   0.01749605\n",
      "  0.02394021 -0.07556672 -0.04730805 -0.04169774 -0.06100193 -0.02336462\n",
      " -0.04209268  0.04464956  0.04902379  0.06107448  0.0221736  -0.01650852\n",
      " -0.03291222 -0.00365225  0.05796125  0.03378264 -0.04876334 -0.03875918\n",
      "  0.03156287 -0.01491564  0.02811568 -0.04022481  0.00464348  0.05883292\n",
      "  0.02663668  0.00545656 -0.00939814  0.02634688 -0.07239823 -0.03353426\n",
      " -0.03627232 -0.04419182 -0.01785113 -0.04314578 -0.02036429 -0.02867238\n",
      " -0.06632727 -0.04113643  0.00586386 -0.00856574  0.00797565  0.03241077\n",
      "  0.01469935  0.05171892 -0.02966822  0.01801185  0.06833198  0.00888102\n",
      " -0.06264354 -0.08235116 -0.02557975  0.0035147   0.06306659  0.00845991\n",
      " -0.01100753  0.05029531  0.04447209 -0.03270682  0.01480115 -0.03646138\n",
      " -0.01295959  0.02573386 -0.0280438   0.00662342 -0.02219929 -0.01370408\n",
      " -0.05112942  0.00544114 -0.029502   -0.05088301 -0.01479583  0.02709504\n",
      "  0.01702229  0.03496975 -0.018165   -0.01762959 -0.06317317 -0.01172713\n",
      " -0.00566451 -0.007439    0.02003289  0.05722609  0.01926781 -0.02669448\n",
      "  0.0073208   0.02328623  0.01990274  0.05817958 -0.03623885  0.03549683\n",
      " -0.03124407  0.04857432 -0.01862437 -0.03588813 -0.08890624 -0.05707194\n",
      " -0.02563133  0.01958838 -0.00712338 -0.0062674   0.03554443  0.0095833\n",
      " -0.01707744 -0.00165126 -0.01664254  0.04382626  0.00674849  0.04677056\n",
      " -0.01508486  0.02089537 -0.04798158  0.00804718 -0.02315391 -0.02963108\n",
      "  0.00339149  0.07179586 -0.01154213  0.03803176  0.05775063  0.00724306\n",
      " -0.03198618  0.08074231  0.06086879 -0.0118219  -0.05903789  0.00694054\n",
      " -0.00203088 -0.01217534  0.00351208  0.02396369  0.01388584  0.0430228\n",
      " -0.02488536  0.01541069 -0.02301423 -0.02346496 -0.05903595 -0.0601903\n",
      "  0.00042163  0.01414067 -0.00696544  0.00312429  0.05208656  0.05230936\n",
      "  0.06077533 -0.00456165 -0.02379075 -0.06780057  0.02225848  0.00463292\n",
      " -0.00669762 -0.07690708 -0.00152725  0.00455183  0.03248381  0.018138\n",
      " -0.06390592  0.02369153  0.05113897 -0.00594884  0.04274873  0.03205358\n",
      "  0.02633972  0.04181147  0.01095225  0.01216827 -0.02323781 -0.01874609\n",
      " -0.01257248  0.03083329 -0.04119209  0.00258593 -0.01962476  0.00469089\n",
      "  0.00881299  0.02942804  0.03059734 -0.03294441 -0.03008003 -0.03982355\n",
      "  0.01630544 -0.03799829  0.00290615  0.04960729  0.02575355 -0.03235367\n",
      " -0.01964373 -0.01738936  0.00372962  0.03625898  0.00080115 -0.04914811\n",
      " -0.02593472  0.00547233  0.02781694 -0.03115302 -0.08001533  0.0163683\n",
      " -0.02269402 -0.01756429  0.04247703  0.03529413  0.0262347   0.07089981\n",
      "  0.0258425   0.03793993 -0.02476447  0.04460647 -0.03211032 -0.01142736\n",
      "  0.01368677 -0.07879489 -0.0112067  -0.06599603 -0.05021283 -0.06099313\n",
      " -0.01059874  0.05208068  0.00577893  0.02150202  0.0441331   0.04521389\n",
      "  0.00648174 -0.00284011 -0.04369398 -0.02393971 -0.05288874 -0.02171451\n",
      "  0.03654728  0.0068678  -0.00229718  0.01013841  0.01487022  0.02611053\n",
      " -0.00783287 -0.01025644  0.00291839  0.04006683 -0.04077129 -0.024001\n",
      " -0.00777169  0.03075031  0.02985848 -0.05049     0.01516843 -0.00489597\n",
      " -0.02632058 -0.06760408 -0.00557661 -0.01117948 -0.04725847  0.0293301\n",
      "  0.00434315  0.03157057  0.03070694 -0.01904326 -0.04262888  0.01006397\n",
      "  0.01726486  0.02393039  0.04518928 -0.00051933  0.00621885 -0.01855127\n",
      "  0.01361256 -0.05344174  0.02376611 -0.03298122  0.00763116  0.00118048\n",
      "  0.00383078 -0.09020713  0.03351114 -0.01290383 -0.00193104  0.00024255\n",
      "  0.04396849 -0.04813099 -0.00192723 -0.04070202  0.02274184 -0.02514691\n",
      "  0.02345232 -0.03577179  0.03409617 -0.00494256  0.02442447 -0.03883243\n",
      "  0.00079484 -0.02018324 -0.03391511  0.03970272  0.0490764   0.01724527\n",
      "  0.03397766 -0.00137196 -0.02633243 -0.01155827 -0.04971902 -0.08036672\n",
      " -0.00435872 -0.00567355 -0.00936983  0.04982825  0.04027753 -0.03667299\n",
      " -0.06413172  0.06881727  0.07386     0.00081267  0.00729879  0.04003288\n",
      "  0.04453139  0.03053012 -0.01223116  0.03179693 -0.0195454   0.00448739\n",
      " -0.0257603   0.00556389  0.02213284  0.00691141 -0.00138295  0.00767505\n",
      "  0.05453443  0.02297711  0.03647041  0.02508301 -0.05040629  0.02997496\n",
      " -0.02433083 -0.01830923  0.02589819 -0.00668451 -0.0160767   0.05572011\n",
      "  0.00581196  0.05007819  0.05430408  0.05399649 -0.00243667  0.01583522\n",
      " -0.02759302  0.03622868  0.02396482 -0.06897159 -0.00319073 -0.03305644\n",
      "  0.07496177 -0.0824509   0.10153382  0.04369957 -0.01811232  0.02631367\n",
      " -0.02900213 -0.05548712  0.01917773 -0.0438357   0.05237363 -0.00869177\n",
      " -0.05762793  0.04843119  0.00092863 -0.07562681 -0.00522811 -0.00074742\n",
      "  0.01662645  0.02177046  0.04092665 -0.0236184   0.01698314 -0.0118752\n",
      "  0.03099508 -0.05713024 -0.07350943 -0.01325952 -0.03633022 -0.01967784\n",
      "  0.06046126 -0.04467166 -0.00248355  0.02301925 -0.01915996 -0.08777144\n",
      " -0.00794418  0.01361418  0.01449853  0.00683096 -0.03186442  0.02282021\n",
      "  0.02959406 -0.03660105 -0.00320366 -0.00353722 -0.00600082 -0.03329582\n",
      " -0.01191334  0.02019471 -0.00039729 -0.01376149  0.00184176 -0.00055583\n",
      " -0.01158235  0.03024552  0.00173772  0.00254587 -0.06743365 -0.03530971\n",
      "  0.047241    0.02735168  0.02322972 -0.03091471  0.04471797  0.01891436\n",
      "  0.01084255  0.00479497 -0.05129434 -0.03654249  0.01695048 -0.05519289\n",
      "  0.03143183 -0.03745602 -0.04308657 -0.03830766  0.00718196 -0.04336058\n",
      "  0.00941123 -0.04314191  0.03819292  0.02118278  0.02027424 -0.02417059\n",
      " -0.06668901 -0.05893864 -0.05867932  0.02600342  0.03196732 -0.01121698\n",
      " -0.00887357 -0.06225809 -0.00775094  0.0327776  -0.01190373 -0.01868616\n",
      "  0.0769647   0.05611171 -0.05149771 -0.02172185  0.04270552 -0.05191682\n",
      "  0.03501941  0.03091981  0.04422286  0.04209267  0.01634241 -0.03668685\n",
      " -0.05168878 -0.06597651 -0.03828232 -0.05112099  0.00931957  0.02700738]\n"
     ]
    }
   ],
   "source": [
    "#vectorize the query with the openai model\n",
    "query_vector = np.array(create_embeddings(query)).astype(np.float32)\n",
    "\n",
    "#vectorize with the instructor model\n",
    "#query_vector = model_encoding.encode(query).astype(np.float32)\n",
    "\n",
    "\n",
    "print(query_vector)"
   ]
  },
  {
   "cell_type": "code",
   "execution_count": 30,
   "metadata": {},
   "outputs": [
    {
     "name": "stdout",
     "output_type": "stream",
     "text": [
      "\n",
      "Sentiment:  Positive\n",
      "\n"
     ]
    }
   ],
   "source": [
    "#predict on embedded text\n",
    "y_predicted = linear_svc.predict([query_vector])\n",
    "\n",
    "#y_predicted = linear_svc.predict([query_vector])\n",
    "\n",
    "print()\n",
    "print('Sentiment:  ' + y_predicted[0])\n",
    "print()"
   ]
  },
  {
   "cell_type": "code",
   "execution_count": null,
   "metadata": {},
   "outputs": [],
   "source": []
  }
 ],
 "metadata": {
  "kernelspec": {
   "display_name": "Python 3",
   "language": "python",
   "name": "python3"
  },
  "language_info": {
   "codemirror_mode": {
    "name": "ipython",
    "version": 3
   },
   "file_extension": ".py",
   "mimetype": "text/x-python",
   "name": "python",
   "nbconvert_exporter": "python",
   "pygments_lexer": "ipython3",
   "version": "3.9.6"
  }
 },
 "nbformat": 4,
 "nbformat_minor": 2
}
